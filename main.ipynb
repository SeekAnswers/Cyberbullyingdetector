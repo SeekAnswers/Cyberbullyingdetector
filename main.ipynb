{
 "cells": [
  {
   "cell_type": "markdown",
   "metadata": {},
   "source": [
    "Firstly, we would be importing the needed libraries"
   ]
  },
  {
   "cell_type": "code",
   "execution_count": 70,
   "metadata": {},
   "outputs": [],
   "source": [
    "import pandas as pd\n",
    "import numpy as np\n",
    "import matplotlib.pyplot as plt\n",
    "import seaborn as sns\n",
    "plt.style.use(\"ggplot\")\n",
    "\n",
    "import re\n",
    "import nltk\n",
    "\n",
    "from sklearn.feature_extraction.text import TfidfVectorizer, TfidfTransformer, CountVectorizer\n",
    "from nltk import sent_tokenize, word_tokenize\n",
    "from sklearn.metrics import f1_score, accuracy_score, precision_score, recall_score, make_scorer\n",
    "\n",
    "from time import time\n",
    "import pickle"
   ]
  },
  {
   "cell_type": "markdown",
   "metadata": {},
   "source": [
    "Let's get the dataset in(Import the dataset)"
   ]
  },
  {
   "cell_type": "code",
   "execution_count": 71,
   "metadata": {},
   "outputs": [],
   "source": [
    "df = pd.read_csv(r'C:\\Users\\kccha\\OneDrive\\Desktop\\Programming\\Cyber bullying detection\\dataset.csv')"
   ]
  },
  {
   "cell_type": "markdown",
   "metadata": {},
   "source": [
    "Lets assess the first five stats"
   ]
  },
  {
   "cell_type": "code",
   "execution_count": 72,
   "metadata": {},
   "outputs": [
    {
     "data": {
      "text/html": [
       "<div>\n",
       "<style scoped>\n",
       "    .dataframe tbody tr th:only-of-type {\n",
       "        vertical-align: middle;\n",
       "    }\n",
       "\n",
       "    .dataframe tbody tr th {\n",
       "        vertical-align: top;\n",
       "    }\n",
       "\n",
       "    .dataframe thead th {\n",
       "        text-align: right;\n",
       "    }\n",
       "</style>\n",
       "<table border=\"1\" class=\"dataframe\">\n",
       "  <thead>\n",
       "    <tr style=\"text-align: right;\">\n",
       "      <th></th>\n",
       "      <th>headline</th>\n",
       "      <th>label</th>\n",
       "    </tr>\n",
       "  </thead>\n",
       "  <tbody>\n",
       "    <tr>\n",
       "      <th>0</th>\n",
       "      <td>cock  suck before you piss around on my work</td>\n",
       "      <td>-1</td>\n",
       "    </tr>\n",
       "    <tr>\n",
       "      <th>1</th>\n",
       "      <td>you are  gay or antisemmitian archangel white ...</td>\n",
       "      <td>-1</td>\n",
       "    </tr>\n",
       "    <tr>\n",
       "      <th>2</th>\n",
       "      <td>fuck your filthy mother in the ass  dry</td>\n",
       "      <td>-1</td>\n",
       "    </tr>\n",
       "    <tr>\n",
       "      <th>3</th>\n",
       "      <td>get fuck  ed up  get fuck  ed up got a drink t...</td>\n",
       "      <td>-1</td>\n",
       "    </tr>\n",
       "    <tr>\n",
       "      <th>4</th>\n",
       "      <td>stupid peace of  shit  stop deleting my stuff ...</td>\n",
       "      <td>-1</td>\n",
       "    </tr>\n",
       "  </tbody>\n",
       "</table>\n",
       "</div>"
      ],
      "text/plain": [
       "                                            headline  label\n",
       "0       cock  suck before you piss around on my work     -1\n",
       "1  you are  gay or antisemmitian archangel white ...     -1\n",
       "2            fuck your filthy mother in the ass  dry     -1\n",
       "3  get fuck  ed up  get fuck  ed up got a drink t...     -1\n",
       "4  stupid peace of  shit  stop deleting my stuff ...     -1"
      ]
     },
     "execution_count": 72,
     "metadata": {},
     "output_type": "execute_result"
    }
   ],
   "source": [
    "df.head()"
   ]
  },
  {
   "cell_type": "markdown",
   "metadata": {},
   "source": [
    "Let's check the labels"
   ]
  },
  {
   "cell_type": "code",
   "execution_count": 73,
   "metadata": {},
   "outputs": [
    {
     "data": {
      "text/plain": [
       "array([-1,  0])"
      ]
     },
     "execution_count": 73,
     "metadata": {},
     "output_type": "execute_result"
    }
   ],
   "source": [
    "df['label'].unique()"
   ]
  },
  {
   "cell_type": "markdown",
   "metadata": {},
   "source": [
    "We have to do dataframe manipulation to convert -1 to zero/1 so we can \"usefulize\" the dataset"
   ]
  },
  {
   "cell_type": "code",
   "execution_count": 74,
   "metadata": {},
   "outputs": [],
   "source": [
    "def perform_data_manipulation():\n",
    "    df = pd.read_csv(r'C:\\Users\\kccha\\OneDrive\\Desktop\\Programming\\Cyber bullying detection\\dataset.csv')\n",
    "    for index in df.index:\n",
    "        if df.loc[index, 'label']==-1:\n",
    "            df.loc[index, 'label'] = 1\n",
    "    return df"
   ]
  },
  {
   "cell_type": "markdown",
   "metadata": {},
   "source": [
    "We call the method"
   ]
  },
  {
   "cell_type": "code",
   "execution_count": 75,
   "metadata": {},
   "outputs": [],
   "source": [
    "df = perform_data_manipulation()"
   ]
  },
  {
   "cell_type": "markdown",
   "metadata": {},
   "source": [
    "Let's confirm the conversion"
   ]
  },
  {
   "cell_type": "code",
   "execution_count": 76,
   "metadata": {},
   "outputs": [
    {
     "data": {
      "text/html": [
       "<div>\n",
       "<style scoped>\n",
       "    .dataframe tbody tr th:only-of-type {\n",
       "        vertical-align: middle;\n",
       "    }\n",
       "\n",
       "    .dataframe tbody tr th {\n",
       "        vertical-align: top;\n",
       "    }\n",
       "\n",
       "    .dataframe thead th {\n",
       "        text-align: right;\n",
       "    }\n",
       "</style>\n",
       "<table border=\"1\" class=\"dataframe\">\n",
       "  <thead>\n",
       "    <tr style=\"text-align: right;\">\n",
       "      <th></th>\n",
       "      <th>headline</th>\n",
       "      <th>label</th>\n",
       "    </tr>\n",
       "  </thead>\n",
       "  <tbody>\n",
       "    <tr>\n",
       "      <th>0</th>\n",
       "      <td>cock  suck before you piss around on my work</td>\n",
       "      <td>1</td>\n",
       "    </tr>\n",
       "    <tr>\n",
       "      <th>1</th>\n",
       "      <td>you are  gay or antisemmitian archangel white ...</td>\n",
       "      <td>1</td>\n",
       "    </tr>\n",
       "    <tr>\n",
       "      <th>2</th>\n",
       "      <td>fuck your filthy mother in the ass  dry</td>\n",
       "      <td>1</td>\n",
       "    </tr>\n",
       "    <tr>\n",
       "      <th>3</th>\n",
       "      <td>get fuck  ed up  get fuck  ed up got a drink t...</td>\n",
       "      <td>1</td>\n",
       "    </tr>\n",
       "    <tr>\n",
       "      <th>4</th>\n",
       "      <td>stupid peace of  shit  stop deleting my stuff ...</td>\n",
       "      <td>1</td>\n",
       "    </tr>\n",
       "  </tbody>\n",
       "</table>\n",
       "</div>"
      ],
      "text/plain": [
       "                                            headline  label\n",
       "0       cock  suck before you piss around on my work      1\n",
       "1  you are  gay or antisemmitian archangel white ...      1\n",
       "2            fuck your filthy mother in the ass  dry      1\n",
       "3  get fuck  ed up  get fuck  ed up got a drink t...      1\n",
       "4  stupid peace of  shit  stop deleting my stuff ...      1"
      ]
     },
     "execution_count": 76,
     "metadata": {},
     "output_type": "execute_result"
    }
   ],
   "source": [
    "df.head()"
   ]
  },
  {
   "cell_type": "code",
   "execution_count": 77,
   "metadata": {},
   "outputs": [
    {
     "data": {
      "text/plain": [
       "array([1, 0])"
      ]
     },
     "execution_count": 77,
     "metadata": {},
     "output_type": "execute_result"
    }
   ],
   "source": [
    "df['label'].unique()"
   ]
  },
  {
   "cell_type": "code",
   "execution_count": 78,
   "metadata": {},
   "outputs": [
    {
     "data": {
      "text/plain": [
       "18148"
      ]
     },
     "execution_count": 78,
     "metadata": {},
     "output_type": "execute_result"
    }
   ],
   "source": [
    "df.shape[0]"
   ]
  },
  {
   "cell_type": "markdown",
   "metadata": {},
   "source": [
    "Let's check how many values are 1 and how many are 0, this tells us if the data is balanced or imbalanced"
   ]
  },
  {
   "cell_type": "markdown",
   "metadata": {},
   "source": [
    "So we can do this classification using a Pie chart"
   ]
  },
  {
   "cell_type": "code",
   "execution_count": 79,
   "metadata": {},
   "outputs": [],
   "source": [
    "def performdatadistribution(df):\n",
    "    total = df.shape[0]\n",
    "    num_non_toxic = df[df['label']==0].shape[0]\n",
    "    \n",
    "    slices = [num_non_toxic/total, (total-num_non_toxic)/total]\n",
    "    \n",
    "    labeling = ['Non-Toxic', 'Toxic']\n",
    "    \n",
    "    explode = [0.2, 0]\n",
    "    \n",
    "    plt.pie(slices, explode = explode, shadow=True, autopct=\"%1.1f%%\", labels = labeling, wedgeprops={'edgecolor': 'black'})\n",
    "    \n",
    "    plt.title('Number of Toxic Vs Non- Toxic Test Sample')\n",
    "    \n",
    "    plt.tight_layout()\n",
    "    \n",
    "    plt.show()"
   ]
  },
  {
   "cell_type": "code",
   "execution_count": 80,
   "metadata": {},
   "outputs": [
    {
     "data": {
      "image/png": "[encoded data removed]",
      "text/plain": [
       "<Figure size 640x480 with 1 Axes>"
      ]
     },
     "metadata": {},
     "output_type": "display_data"
    }
   ],
   "source": [
    "performdatadistribution(df)"
   ]
  },
  {
   "cell_type": "markdown",
   "metadata": {},
   "source": [
    "Let's try to remove the patterns"
   ]
  },
  {
   "cell_type": "code",
   "execution_count": 81,
   "metadata": {},
   "outputs": [],
   "source": [
    "def remove_pattern(input_txt, pattern):\n",
    "    if (type(input_txt)==str):\n",
    "        r = re.finall(pattern, input_txt)\n",
    "        for i in r:\n",
    "            input_txt = re.sub(i, '', input_txt)\n",
    "        return input_txt\n",
    "    else:\n",
    "        return '' "
   ]
  },
  {
   "cell_type": "code",
   "execution_count": 82,
   "metadata": {},
   "outputs": [
    {
     "data": {
      "text/html": [
       "<div>\n",
       "<style scoped>\n",
       "    .dataframe tbody tr th:only-of-type {\n",
       "        vertical-align: middle;\n",
       "    }\n",
       "\n",
       "    .dataframe tbody tr th {\n",
       "        vertical-align: top;\n",
       "    }\n",
       "\n",
       "    .dataframe thead th {\n",
       "        text-align: right;\n",
       "    }\n",
       "</style>\n",
       "<table border=\"1\" class=\"dataframe\">\n",
       "  <thead>\n",
       "    <tr style=\"text-align: right;\">\n",
       "      <th></th>\n",
       "      <th>headline</th>\n",
       "      <th>label</th>\n",
       "    </tr>\n",
       "  </thead>\n",
       "  <tbody>\n",
       "    <tr>\n",
       "      <th>0</th>\n",
       "      <td>cock  suck before you piss around on my work</td>\n",
       "      <td>1</td>\n",
       "    </tr>\n",
       "  </tbody>\n",
       "</table>\n",
       "</div>"
      ],
      "text/plain": [
       "                                       headline  label\n",
       "0  cock  suck before you piss around on my work      1"
      ]
     },
     "execution_count": 82,
     "metadata": {},
     "output_type": "execute_result"
    }
   ],
   "source": [
    "df.head(1)"
   ]
  },
  {
   "cell_type": "code",
   "execution_count": 83,
   "metadata": {},
   "outputs": [
    {
     "name": "stderr",
     "output_type": "stream",
     "text": [
      "<>:21: SyntaxWarning: invalid escape sequence '\\w'\n",
      "<>:21: SyntaxWarning: invalid escape sequence '\\w'\n",
      "C:\\Users\\kccha\\AppData\\Local\\Temp\\ipykernel_25316\\2980168232.py:21: SyntaxWarning: invalid escape sequence '\\w'\n",
      "  combined_df['tidy_tweet'] = np.vectorize(remove_pattern)(combined_df['headline'], '@[\\w]*')\n",
      "[nltk_data] Downloading package wordnet to\n",
      "[nltk_data]     C:\\Users\\kccha\\AppData\\Roaming\\nltk_data...\n",
      "[nltk_data]   Package wordnet is already up-to-date!\n"
     ]
    }
   ],
   "source": [
    "# import pandas as pd\n",
    "# import numpy as np\n",
    "# import nltk\n",
    "\n",
    "# Ensure the necessary NLTK resources are available\n",
    "nltk.download('wordnet')\n",
    "\n",
    "# Function to remove a specific pattern from the text (e.g., @user mentions)\n",
    "def remove_pattern(input_txt, pattern):\n",
    "    import re\n",
    "    return re.sub(pattern, '', input_txt)  # Correct: Defined remove_pattern function\n",
    "\n",
    "def datasetCleaning(df):\n",
    "    # Calculate the length of the headline\n",
    "    df['length_headline'] = df['headline'].str.len()\n",
    "    \n",
    "    # Concatenate the DataFrame with itself\n",
    "    combined_df = pd.concat([df, df], ignore_index=True)  # Correct: Used pd.concat([df, df], ignore_index=True)\n",
    "    \n",
    "    # Remove @user mentions\n",
    "    combined_df['tidy_tweet'] = np.vectorize(remove_pattern)(combined_df['headline'], '@[\\w]*')\n",
    "\n",
    "    # Remove non-alphabetic characters and # symbols\n",
    "    combined_df['tidy_tweet'] = combined_df['tidy_tweet'].str.replace('[^a-zA-Z#]', ' ', regex=True)\n",
    "    # Correct: Added regex=True in str.replace to ensure the method treats the pattern as a regular expression\n",
    "\n",
    "    # Remove words with less than 3 characters\n",
    "    combined_df['tidy_tweet'] = combined_df['tidy_tweet'].apply(lambda x: ' '.join([w for w in x.split() if len(w) > 3]))\n",
    "\n",
    "    # Calculate the length of the cleaned tweet\n",
    "    combined_df['length_tidy_tweet'] = combined_df['tidy_tweet'].str.len()\n",
    "    # Correct: Replaced ['tidy_tweet'].str.len() with combined_df['tidy_tweet'].str.len()\n",
    "\n",
    "    # Tokenization\n",
    "    tokenized_tweet = combined_df['tidy_tweet'].apply(lambda x: x.split())\n",
    "\n",
    "    # Lemmatization\n",
    "    lemmatizer = nltk.stem.WordNetLemmatizer()\n",
    "    tokenized_tweet = tokenized_tweet.apply(lambda x: [lemmatizer.lemmatize(i) for i in x])\n",
    "    # Correct: Changed lemmatizer.lemmatizer(i) to lemmatizer.lemmatize(i)\n",
    "\n",
    "    # Rejoin the tokens into a single string\n",
    "    combined_df['tidy_tweet'] = tokenized_tweet.apply(lambda x: ' '.join(x))\n",
    "    # Correct: Added logic to rejoin tokens into a single string after lemmatization\n",
    "\n",
    "    return combined_df, df\n"
   ]
  },
  {
   "cell_type": "code",
   "execution_count": 84,
   "metadata": {},
   "outputs": [],
   "source": [
    "combined_df, df = datasetCleaning(df)"
   ]
  },
  {
   "cell_type": "markdown",
   "metadata": {},
   "source": [
    "Let's split the Dataset"
   ]
  },
  {
   "cell_type": "code",
   "execution_count": 85,
   "metadata": {},
   "outputs": [],
   "source": [
    "from sklearn.model_selection import train_test_split"
   ]
  },
  {
   "cell_type": "code",
   "execution_count": 86,
   "metadata": {},
   "outputs": [
    {
     "data": {
      "text/html": [
       "<div>\n",
       "<style scoped>\n",
       "    .dataframe tbody tr th:only-of-type {\n",
       "        vertical-align: middle;\n",
       "    }\n",
       "\n",
       "    .dataframe tbody tr th {\n",
       "        vertical-align: top;\n",
       "    }\n",
       "\n",
       "    .dataframe thead th {\n",
       "        text-align: right;\n",
       "    }\n",
       "</style>\n",
       "<table border=\"1\" class=\"dataframe\">\n",
       "  <thead>\n",
       "    <tr style=\"text-align: right;\">\n",
       "      <th></th>\n",
       "      <th>headline</th>\n",
       "      <th>label</th>\n",
       "      <th>length_headline</th>\n",
       "      <th>tidy_tweet</th>\n",
       "      <th>length_tidy_tweet</th>\n",
       "    </tr>\n",
       "  </thead>\n",
       "  <tbody>\n",
       "    <tr>\n",
       "      <th>0</th>\n",
       "      <td>cock  suck before you piss around on my work</td>\n",
       "      <td>1</td>\n",
       "      <td>44</td>\n",
       "      <td>cock suck before piss around work</td>\n",
       "      <td>33</td>\n",
       "    </tr>\n",
       "    <tr>\n",
       "      <th>1</th>\n",
       "      <td>you are  gay or antisemmitian archangel white ...</td>\n",
       "      <td>1</td>\n",
       "      <td>624</td>\n",
       "      <td>antisemmitian archangel white tiger meow greet...</td>\n",
       "      <td>400</td>\n",
       "    </tr>\n",
       "    <tr>\n",
       "      <th>2</th>\n",
       "      <td>fuck your filthy mother in the ass  dry</td>\n",
       "      <td>1</td>\n",
       "      <td>39</td>\n",
       "      <td>fuck your filthy mother</td>\n",
       "      <td>23</td>\n",
       "    </tr>\n",
       "    <tr>\n",
       "      <th>3</th>\n",
       "      <td>get fuck  ed up  get fuck  ed up got a drink t...</td>\n",
       "      <td>1</td>\n",
       "      <td>121</td>\n",
       "      <td>fuck fuck drink that cant down fuck fuck fuck ...</td>\n",
       "      <td>51</td>\n",
       "    </tr>\n",
       "    <tr>\n",
       "      <th>4</th>\n",
       "      <td>stupid peace of  shit  stop deleting my stuff ...</td>\n",
       "      <td>1</td>\n",
       "      <td>93</td>\n",
       "      <td>stupid peace shit stop deleting stuff hole fal...</td>\n",
       "      <td>57</td>\n",
       "    </tr>\n",
       "  </tbody>\n",
       "</table>\n",
       "</div>"
      ],
      "text/plain": [
       "                                            headline  label  length_headline  \\\n",
       "0       cock  suck before you piss around on my work      1               44   \n",
       "1  you are  gay or antisemmitian archangel white ...      1              624   \n",
       "2            fuck your filthy mother in the ass  dry      1               39   \n",
       "3  get fuck  ed up  get fuck  ed up got a drink t...      1              121   \n",
       "4  stupid peace of  shit  stop deleting my stuff ...      1               93   \n",
       "\n",
       "                                          tidy_tweet  length_tidy_tweet  \n",
       "0                  cock suck before piss around work                 33  \n",
       "1  antisemmitian archangel white tiger meow greet...                400  \n",
       "2                            fuck your filthy mother                 23  \n",
       "3  fuck fuck drink that cant down fuck fuck fuck ...                 51  \n",
       "4  stupid peace shit stop deleting stuff hole fal...                 57  "
      ]
     },
     "execution_count": 86,
     "metadata": {},
     "output_type": "execute_result"
    }
   ],
   "source": [
    "combined_df.head()"
   ]
  },
  {
   "cell_type": "code",
   "execution_count": 87,
   "metadata": {},
   "outputs": [],
   "source": [
    "def performdatasplit(x, y, combined_df, df):\n",
    "    # Split the dataset into training and testing sets\n",
    "    X_train, X_test, y_train, y_test = train_test_split(combined_df['tidy_tweet'], combined_df['label'], test_size=x, random_state=y)\n",
    "\n",
    "    # Load stopwords from a file\n",
    "    with open('stopwords.txt', 'r') as file:\n",
    "        content = file.read()\n",
    "    content_list = content.split('\\n')\n",
    "\n",
    "    # Initialize TF-IDF Vectorizer with the stopwords\n",
    "    Tfidvector = TfidfVectorizer(stop_words=content_list, lowercase=True)\n",
    "\n",
    "    # Transform the training data into TF-IDF features\n",
    "    training_data = Tfidvector.fit_transform(X_train.values.astype('U'))\n",
    "\n",
    "    # Transform the testing data into TF-IDF features\n",
    "    testing_data = Tfidvector.transform(X_test.values.astype('U'))\n",
    "\n",
    "    # Save the entire TF-IDF vectorizer object\n",
    "    filename = 'tfidfvectorizer.pkl'\n",
    "    with open(filename, 'wb') as file:\n",
    "        pickle.dump(Tfidvector, file)\n",
    "\n",
    "    # Return the split datasets and other relevant objects\n",
    "    return X_train, X_test, y_train, y_test, testing_data, filename, training_data, content_list\n"
   ]
  },
  {
   "cell_type": "code",
   "execution_count": 88,
   "metadata": {},
   "outputs": [
    {
     "name": "stderr",
     "output_type": "stream",
     "text": [
      "c:\\Users\\kccha\\OneDrive\\Desktop\\Programming\\Cyber bullying detection\\cyberbullyingdetectorenv\\Lib\\site-packages\\sklearn\\feature_extraction\\text.py:406: UserWarning: Your stop_words may be inconsistent with your preprocessing. Tokenizing the stop words generated tokens ['ninad'] not in stop_words.\n",
      "  warnings.warn(\n"
     ]
    }
   ],
   "source": [
    "X_train , X_test, y_train, y_test, testing_data, filename, training_data, content_list = performdatasplit(0.2, 42, combined_df, df)"
   ]
  },
  {
   "cell_type": "markdown",
   "metadata": {},
   "source": [
    "Apply Machine learning algorithms"
   ]
  },
  {
   "cell_type": "code",
   "execution_count": 89,
   "metadata": {},
   "outputs": [
    {
     "name": "stdout",
     "output_type": "stream",
     "text": [
      "Requirement already satisfied: xgboost in c:\\users\\kccha\\onedrive\\desktop\\programming\\cyber bullying detection\\cyberbullyingdetectorenv\\lib\\site-packages (2.1.1)\n",
      "Requirement already satisfied: numpy in c:\\users\\kccha\\onedrive\\desktop\\programming\\cyber bullying detection\\cyberbullyingdetectorenv\\lib\\site-packages (from xgboost) (2.1.0)\n",
      "Requirement already satisfied: scipy in c:\\users\\kccha\\onedrive\\desktop\\programming\\cyber bullying detection\\cyberbullyingdetectorenv\\lib\\site-packages (from xgboost) (1.14.0)\n"
     ]
    },
    {
     "name": "stderr",
     "output_type": "stream",
     "text": [
      "\n",
      "[notice] A new release of pip is available: 24.1.2 -> 24.2\n",
      "[notice] To update, run: python.exe -m pip install --upgrade pip\n"
     ]
    }
   ],
   "source": [
    "!pip install xgboost\n",
    "import xgboost as xgb\n",
    "import pickle\n",
    "from sklearn.ensemble import AdaBoostClassifier, RandomForestClassifier, BaggingClassifier\n",
    "from sklearn.linear_model import LogisticRegression, SGDClassifier\n",
    "from sklearn.neighbors import KNeighborsClassifier\n",
    "from sklearn.svm import LinearSVC\n",
    "from sklearn.naive_bayes import MultinomialNB\n",
    "from sklearn.tree import DecisionTreeClassifier\n",
    "from sklearn.metrics import accuracy_score, f1_score, precision_score, recall_score\n",
    "from time import time\n"
   ]
  },
  {
   "cell_type": "code",
   "execution_count": 90,
   "metadata": {},
   "outputs": [],
   "source": [
    "def pipeline(X_train, y_train, X_test, y_test):\n",
    "    MODELS = [\n",
    "        LinearSVC(),\n",
    "        LogisticRegression(),\n",
    "        MultinomialNB(),\n",
    "        DecisionTreeClassifier(),\n",
    "        AdaBoostClassifier(),\n",
    "        BaggingClassifier(),\n",
    "        SGDClassifier()\n",
    "    ]\n",
    "\n",
    "    final_result = []\n",
    "\n",
    "    for model in MODELS:\n",
    "        results = {}  # Initialize the results dictionary inside the loop\n",
    "        results['Algorithm'] = model.__class__.__name__\n",
    "\n",
    "        start = time()\n",
    "        print(f'Training {model.__class__.__name__}...')\n",
    "        \n",
    "        # Fit the model\n",
    "        model.fit(X_train, y_train)\n",
    "        end = time()\n",
    "        \n",
    "        results['Training Time'] = end - start\n",
    "\n",
    "        # Save the model to a file\n",
    "        filename = model.__class__.__name__ + '.pkl'\n",
    "        pickle.dump(model, open(filename, 'wb'))\n",
    "\n",
    "        # Measure prediction time\n",
    "        start = time()\n",
    "        prediction_test = model.predict(X_test)\n",
    "        prediction_train = model.predict(X_train)\n",
    "        end = time()\n",
    "\n",
    "        results['Prediction Time'] = end - start\n",
    "\n",
    "        # Calculate metrics\n",
    "        results['Accuracy : Test'] = accuracy_score(y_test, prediction_test)\n",
    "        results['Accuracy : Train'] = accuracy_score(y_train, prediction_train)\n",
    "\n",
    "        results['F1_Score : Test'] = f1_score(y_test, prediction_test, average='weighted')\n",
    "        results['F1_Score : Train'] = f1_score(y_train, prediction_train, average='weighted')\n",
    "\n",
    "        results['Precision : Test'] = precision_score(y_test, prediction_test, average='weighted')\n",
    "        results['Precision : Train'] = precision_score(y_train, prediction_train, average='weighted')\n",
    "\n",
    "        results['Recall : Test'] = recall_score(y_test, prediction_test, average='weighted')\n",
    "        results['Recall : Train'] = recall_score(y_train, prediction_train, average='weighted')\n",
    "\n",
    "        #I maintained \"average = 'weighted'\" for the purpose of ease of transitions in case of doing a multiclass classification, for instance in the future maybe trying to create a classification that involves subtle jabs or stuff like that and easier scalability basically\n",
    "\n",
    "        print(f'Training {model.__class__.__name__} finished in {results[\"Training Time\"]:.2f} sec')\n",
    "\n",
    "        final_result.append(results.copy())\n",
    "\n",
    "    return final_result\n",
    "\n",
    "\n"
   ]
  },
  {
   "cell_type": "code",
   "execution_count": 91,
   "metadata": {},
   "outputs": [
    {
     "name": "stdout",
     "output_type": "stream",
     "text": [
      "Training LinearSVC...\n",
      "Training LinearSVC finished in 0.13 sec\n",
      "Training LogisticRegression...\n",
      "Training LogisticRegression finished in 0.22 sec\n",
      "Training MultinomialNB...\n",
      "Training MultinomialNB finished in 0.01 sec\n",
      "Training DecisionTreeClassifier...\n",
      "Training DecisionTreeClassifier finished in 6.16 sec\n",
      "Training AdaBoostClassifier...\n"
     ]
    },
    {
     "name": "stderr",
     "output_type": "stream",
     "text": [
      "c:\\Users\\kccha\\OneDrive\\Desktop\\Programming\\Cyber bullying detection\\cyberbullyingdetectorenv\\Lib\\site-packages\\sklearn\\ensemble\\_weight_boosting.py:527: FutureWarning: The SAMME.R algorithm (the default) is deprecated and will be removed in 1.6. Use the SAMME algorithm to circumvent this warning.\n",
      "  warnings.warn(\n"
     ]
    },
    {
     "name": "stdout",
     "output_type": "stream",
     "text": [
      "Training AdaBoostClassifier finished in 3.63 sec\n",
      "Training BaggingClassifier...\n",
      "Training BaggingClassifier finished in 49.48 sec\n",
      "Training SGDClassifier...\n",
      "Training SGDClassifier finished in 0.04 sec\n"
     ]
    }
   ],
   "source": [
    "final_result = pipeline(training_data, y_train, testing_data, y_test)"
   ]
  },
  {
   "cell_type": "code",
   "execution_count": 92,
   "metadata": {},
   "outputs": [],
   "source": [
    "def performfinalresult(final_results):\n",
    "    results = pd.DataFrame(final_results)\n",
    "    \n",
    "    # Reindex the columns\n",
    "    results = results.reindex(columns=[\n",
    "        'Algorithm', 'Accuracy : Test', 'Precision : Test', 'Recall : Test', 'F1_Score : Test', 'Prediction Time',\n",
    "        'Accuracy : Train', 'Precision : Train', 'Recall : Train', 'F1_Score : Train', 'Training Time'\n",
    "    ])\n",
    "    \n",
    "    # Sort the values based on 'F1 Score : Test' in descending order\n",
    "    results.sort_values(by='F1_Score : Test', inplace=True, ascending=False)\n",
    "\n",
    "    return results\n"
   ]
  },
  {
   "cell_type": "code",
   "execution_count": 93,
   "metadata": {},
   "outputs": [],
   "source": [
    "results = performfinalresult(final_result)"
   ]
  },
  {
   "cell_type": "code",
   "execution_count": 94,
   "metadata": {},
   "outputs": [
    {
     "data": {
      "text/html": [
       "<div>\n",
       "<style scoped>\n",
       "    .dataframe tbody tr th:only-of-type {\n",
       "        vertical-align: middle;\n",
       "    }\n",
       "\n",
       "    .dataframe tbody tr th {\n",
       "        vertical-align: top;\n",
       "    }\n",
       "\n",
       "    .dataframe thead th {\n",
       "        text-align: right;\n",
       "    }\n",
       "</style>\n",
       "<table border=\"1\" class=\"dataframe\">\n",
       "  <thead>\n",
       "    <tr style=\"text-align: right;\">\n",
       "      <th></th>\n",
       "      <th>Algorithm</th>\n",
       "      <th>Accuracy : Test</th>\n",
       "      <th>Precision : Test</th>\n",
       "      <th>Recall : Test</th>\n",
       "      <th>F1_Score : Test</th>\n",
       "      <th>Prediction Time</th>\n",
       "      <th>Accuracy : Train</th>\n",
       "      <th>Precision : Train</th>\n",
       "      <th>Recall : Train</th>\n",
       "      <th>F1_Score : Train</th>\n",
       "      <th>Training Time</th>\n",
       "    </tr>\n",
       "  </thead>\n",
       "  <tbody>\n",
       "    <tr>\n",
       "      <th>0</th>\n",
       "      <td>DecisionTreeClassifier</td>\n",
       "      <td>0.973140</td>\n",
       "      <td>0.973171</td>\n",
       "      <td>0.973140</td>\n",
       "      <td>0.973053</td>\n",
       "      <td>0.031439</td>\n",
       "      <td>0.996384</td>\n",
       "      <td>0.996388</td>\n",
       "      <td>0.996384</td>\n",
       "      <td>0.996382</td>\n",
       "      <td>6.161606</td>\n",
       "    </tr>\n",
       "    <tr>\n",
       "      <th>1</th>\n",
       "      <td>BaggingClassifier</td>\n",
       "      <td>0.966804</td>\n",
       "      <td>0.966763</td>\n",
       "      <td>0.966804</td>\n",
       "      <td>0.966776</td>\n",
       "      <td>0.335527</td>\n",
       "      <td>0.994317</td>\n",
       "      <td>0.994317</td>\n",
       "      <td>0.994317</td>\n",
       "      <td>0.994315</td>\n",
       "      <td>49.484471</td>\n",
       "    </tr>\n",
       "    <tr>\n",
       "      <th>2</th>\n",
       "      <td>LinearSVC</td>\n",
       "      <td>0.963636</td>\n",
       "      <td>0.963657</td>\n",
       "      <td>0.963636</td>\n",
       "      <td>0.963646</td>\n",
       "      <td>0.000000</td>\n",
       "      <td>0.987808</td>\n",
       "      <td>0.987823</td>\n",
       "      <td>0.987808</td>\n",
       "      <td>0.987813</td>\n",
       "      <td>0.129861</td>\n",
       "    </tr>\n",
       "    <tr>\n",
       "      <th>3</th>\n",
       "      <td>LogisticRegression</td>\n",
       "      <td>0.935262</td>\n",
       "      <td>0.935634</td>\n",
       "      <td>0.935262</td>\n",
       "      <td>0.935401</td>\n",
       "      <td>0.002891</td>\n",
       "      <td>0.959705</td>\n",
       "      <td>0.959822</td>\n",
       "      <td>0.959705</td>\n",
       "      <td>0.959750</td>\n",
       "      <td>0.221449</td>\n",
       "    </tr>\n",
       "    <tr>\n",
       "      <th>4</th>\n",
       "      <td>SGDClassifier</td>\n",
       "      <td>0.934848</td>\n",
       "      <td>0.935731</td>\n",
       "      <td>0.934848</td>\n",
       "      <td>0.935112</td>\n",
       "      <td>0.002404</td>\n",
       "      <td>0.957260</td>\n",
       "      <td>0.957604</td>\n",
       "      <td>0.957260</td>\n",
       "      <td>0.957364</td>\n",
       "      <td>0.041260</td>\n",
       "    </tr>\n",
       "    <tr>\n",
       "      <th>5</th>\n",
       "      <td>MultinomialNB</td>\n",
       "      <td>0.897796</td>\n",
       "      <td>0.900336</td>\n",
       "      <td>0.897796</td>\n",
       "      <td>0.895336</td>\n",
       "      <td>0.003241</td>\n",
       "      <td>0.926367</td>\n",
       "      <td>0.927897</td>\n",
       "      <td>0.926367</td>\n",
       "      <td>0.925223</td>\n",
       "      <td>0.014701</td>\n",
       "    </tr>\n",
       "    <tr>\n",
       "      <th>6</th>\n",
       "      <td>AdaBoostClassifier</td>\n",
       "      <td>0.838567</td>\n",
       "      <td>0.872707</td>\n",
       "      <td>0.838567</td>\n",
       "      <td>0.842066</td>\n",
       "      <td>0.667972</td>\n",
       "      <td>0.839027</td>\n",
       "      <td>0.873412</td>\n",
       "      <td>0.839027</td>\n",
       "      <td>0.842307</td>\n",
       "      <td>3.629599</td>\n",
       "    </tr>\n",
       "  </tbody>\n",
       "</table>\n",
       "</div>"
      ],
      "text/plain": [
       "                Algorithm  Accuracy : Test  Precision : Test  Recall : Test  \\\n",
       "0  DecisionTreeClassifier         0.973140          0.973171       0.973140   \n",
       "1       BaggingClassifier         0.966804          0.966763       0.966804   \n",
       "2               LinearSVC         0.963636          0.963657       0.963636   \n",
       "3      LogisticRegression         0.935262          0.935634       0.935262   \n",
       "4           SGDClassifier         0.934848          0.935731       0.934848   \n",
       "5           MultinomialNB         0.897796          0.900336       0.897796   \n",
       "6      AdaBoostClassifier         0.838567          0.872707       0.838567   \n",
       "\n",
       "   F1_Score : Test  Prediction Time  Accuracy : Train  Precision : Train  \\\n",
       "0         0.973053         0.031439          0.996384           0.996388   \n",
       "1         0.966776         0.335527          0.994317           0.994317   \n",
       "2         0.963646         0.000000          0.987808           0.987823   \n",
       "3         0.935401         0.002891          0.959705           0.959822   \n",
       "4         0.935112         0.002404          0.957260           0.957604   \n",
       "5         0.895336         0.003241          0.926367           0.927897   \n",
       "6         0.842066         0.667972          0.839027           0.873412   \n",
       "\n",
       "   Recall : Train  F1_Score : Train  Training Time  \n",
       "0        0.996384          0.996382       6.161606  \n",
       "1        0.994317          0.994315      49.484471  \n",
       "2        0.987808          0.987813       0.129861  \n",
       "3        0.959705          0.959750       0.221449  \n",
       "4        0.957260          0.957364       0.041260  \n",
       "5        0.926367          0.925223       0.014701  \n",
       "6        0.839027          0.842307       3.629599  "
      ]
     },
     "execution_count": 94,
     "metadata": {},
     "output_type": "execute_result"
    }
   ],
   "source": [
    "results.head(10)\n",
    "results.reset_index(drop = True)"
   ]
  },
  {
   "cell_type": "code",
   "execution_count": 95,
   "metadata": {},
   "outputs": [
    {
     "data": {
      "text/html": [
       "<div>\n",
       "<style scoped>\n",
       "    .dataframe tbody tr th:only-of-type {\n",
       "        vertical-align: middle;\n",
       "    }\n",
       "\n",
       "    .dataframe tbody tr th {\n",
       "        vertical-align: top;\n",
       "    }\n",
       "\n",
       "    .dataframe thead th {\n",
       "        text-align: right;\n",
       "    }\n",
       "</style>\n",
       "<table border=\"1\" class=\"dataframe\">\n",
       "  <thead>\n",
       "    <tr style=\"text-align: right;\">\n",
       "      <th></th>\n",
       "      <th>Accuracy : Test</th>\n",
       "      <th>Precision : Test</th>\n",
       "      <th>Recall : Test</th>\n",
       "      <th>F1_Score : Test</th>\n",
       "      <th>Prediction Time</th>\n",
       "      <th>Accuracy : Train</th>\n",
       "      <th>Precision : Train</th>\n",
       "      <th>Recall : Train</th>\n",
       "      <th>F1_Score : Train</th>\n",
       "      <th>Training Time</th>\n",
       "    </tr>\n",
       "  </thead>\n",
       "  <tbody>\n",
       "    <tr>\n",
       "      <th>min</th>\n",
       "      <td>0.838567</td>\n",
       "      <td>0.872707</td>\n",
       "      <td>0.838567</td>\n",
       "      <td>0.842066</td>\n",
       "      <td>0.000000</td>\n",
       "      <td>0.839027</td>\n",
       "      <td>0.873412</td>\n",
       "      <td>0.839027</td>\n",
       "      <td>0.842307</td>\n",
       "      <td>0.014701</td>\n",
       "    </tr>\n",
       "    <tr>\n",
       "      <th>max</th>\n",
       "      <td>0.973140</td>\n",
       "      <td>0.973171</td>\n",
       "      <td>0.973140</td>\n",
       "      <td>0.973053</td>\n",
       "      <td>0.667972</td>\n",
       "      <td>0.996384</td>\n",
       "      <td>0.996388</td>\n",
       "      <td>0.996384</td>\n",
       "      <td>0.996382</td>\n",
       "      <td>49.484471</td>\n",
       "    </tr>\n",
       "  </tbody>\n",
       "</table>\n",
       "</div>"
      ],
      "text/plain": [
       "     Accuracy : Test  Precision : Test  Recall : Test  F1_Score : Test  \\\n",
       "min         0.838567          0.872707       0.838567         0.842066   \n",
       "max         0.973140          0.973171       0.973140         0.973053   \n",
       "\n",
       "     Prediction Time  Accuracy : Train  Precision : Train  Recall : Train  \\\n",
       "min         0.000000          0.839027           0.873412        0.839027   \n",
       "max         0.667972          0.996384           0.996388        0.996384   \n",
       "\n",
       "     F1_Score : Train  Training Time  \n",
       "min          0.842307       0.014701  \n",
       "max          0.996382      49.484471  "
      ]
     },
     "execution_count": 95,
     "metadata": {},
     "output_type": "execute_result"
    }
   ],
   "source": [
    "results.describe().loc[['min', 'max']]"
   ]
  },
  {
   "cell_type": "markdown",
   "metadata": {},
   "source": [
    "Summary in Graph"
   ]
  },
  {
   "cell_type": "code",
   "execution_count": 96,
   "metadata": {},
   "outputs": [
    {
     "data": {
      "text/plain": [
       "Text(0.5, 1.0, 'Classification Summary of Algorithms')"
      ]
     },
     "execution_count": 96,
     "metadata": {},
     "output_type": "execute_result"
    },
    {
     "data": {
      "image/png": "[encoded data removed]",
      "text/plain": [
       "<Figure size 1500x600 with 1 Axes>"
      ]
     },
     "metadata": {},
     "output_type": "display_data"
    }
   ],
   "source": [
    "# Finding the best scores\n",
    "best_acc = results[results['Accuracy : Test'] == results['Accuracy : Test'].max()]\n",
    "best_f1 = results[results['F1_Score : Test'] == results['F1_Score : Test'].max()]\n",
    "best_precision = results[results['Precision : Test'] == results['Precision : Test'].max()]\n",
    "best_recall = results[results['Recall : Test'] == results['Recall : Test'].max()]\n",
    "\n",
    "# Setting the style and figure size\n",
    "sns.set_style('darkgrid')\n",
    "plt.figure(figsize=(15, 6))\n",
    "\n",
    "# Set bar width\n",
    "barWidth = 0.17\n",
    "\n",
    "# Set height of bar\n",
    "bars1 = results['Accuracy : Test']\n",
    "bars2 = results['F1_Score : Test']\n",
    "\n",
    "# Set position of bar on X axis\n",
    "r1 = np.arange(len(bars1))\n",
    "r2 = [x + barWidth for x in r1]\n",
    "\n",
    "# Make the bar plot\n",
    "pal = sns.color_palette()\n",
    "plt.bar(r1, bars1, color=pal[0], width=barWidth, edgecolor='white', label='Test Accuracy')\n",
    "plt.bar(r2, bars2, color=pal[1], width=barWidth, edgecolor='white', label='Test F1 Score')\n",
    "\n",
    "# Add xticks on the middle of the group bars\n",
    "plt.xlabel('Algorithm', fontweight='bold', fontsize=13)\n",
    "plt.ylabel('Score', fontweight='bold', fontsize=13)\n",
    "plt.xticks([r + barWidth for r in range(len(bars1))], results['Algorithm'], rotation=15, fontsize=11)\n",
    "\n",
    "# Create legend & Show graphic\n",
    "plt.legend(fontsize=13)\n",
    "\n",
    "# Adding text box with best scores\n",
    "textstr = '\\n'.join([\n",
    "    'Best Accuracy: {:.3f} - {}'.format(best_acc['Accuracy : Test'].values[0], best_acc['Algorithm'].values[0]),\n",
    "    'Best F1 Score: {:.3f} - {}'.format(best_f1['F1_Score : Test'].values[0], best_f1['Algorithm'].values[0])\n",
    "])\n",
    "props = dict(boxstyle='round', facecolor='lightgrey', alpha=0.5)\n",
    "\n",
    "plt.title('Classification Summary of Algorithms', fontweight='bold', fontsize=17)\n"
   ]
  },
  {
   "cell_type": "markdown",
   "metadata": {},
   "source": [
    "Training and prediction time of Algorithm"
   ]
  },
  {
   "cell_type": "code",
   "execution_count": 97,
   "metadata": {},
   "outputs": [
    {
     "data": {
      "text/plain": [
       "Text(0.5, 1.0, 'Training and Prediction time of Algorithms')"
      ]
     },
     "execution_count": 97,
     "metadata": {},
     "output_type": "execute_result"
    },
    {
     "data": {
      "image/png": "[encoded data removed]",
      "text/plain": [
       "<Figure size 1200x700 with 1 Axes>"
      ]
     },
     "metadata": {},
     "output_type": "display_data"
    }
   ],
   "source": [
    "best_train_time = results[results['Training Time'] == results['Training Time'].min()]\n",
    "worst_train_time = results[results['Training Time'] == results['Training Time'].max()]\n",
    "best_prediction_time = results[results['Prediction Time'] == results['Prediction Time'].min()]\n",
    "worst_prediction_time = results[results['Prediction Time'] == results['Prediction Time'].max()]\n",
    "\n",
    "plt.figure(figsize = (12, 7))\n",
    "\n",
    "barWidth = 0.17\n",
    " \n",
    "# set height of bar\n",
    "bars1 = results['Training Time']\n",
    "bars2 = results['Prediction Time']\n",
    " \n",
    "# Set position of bar on X axis\n",
    "r1 = np.arange(len(bars1))\n",
    "r2 = [x + barWidth for x in r1]\n",
    " \n",
    "# Make the plot\n",
    "plt.bar(r1, bars1, color= pal[0], width=barWidth, edgecolor='white', label='Training Time')\n",
    "plt.bar(r2, bars2, color= pal[1], width=barWidth, edgecolor='white', label='Prediction Time')\n",
    " \n",
    "# Add xticks on the middle of the group bars\n",
    "plt.xlabel('Algorithm', fontweight='bold', fontsize = 13)\n",
    "plt.ylabel('Time (seconds)', fontweight = 'bold', fontsize = 13)\n",
    "plt.xticks([r + barWidth for r in range(len(bars1))], results['Algorithm'], rotation = 15, fontsize = 11)\n",
    "\n",
    "\n",
    "textstr = '\\n'.join(('Best Training Time: {:.3f} - {}'.format(best_train_time['Training Time'].values[0], best_train_time['Algorithm'].values[0]), \n",
    "                     'Worst Training Time: {:.3f} - {}'.format(worst_train_time['Training Time'].values[0], worst_train_time['Algorithm'].values[0]),\n",
    "                   'Best Prediction Time: {:.3f} - {}'.format(best_prediction_time['Training Time'].values[0], best_prediction_time['Algorithm'].values[0]), \n",
    "                    'Worst Prediction Time: {:.3f} - {}'.format(worst_prediction_time['Training Time'].values[0], worst_prediction_time['Algorithm'].values[0])))\n",
    "props = dict(boxstyle='round', facecolor='lightgrey', alpha=0.5)\n",
    "\n",
    "#place a text box\n",
    "plt.text(3.2, 12, textstr, fontsize=14,  bbox=props) \n",
    "\n",
    "# Create legend & Show graphic\n",
    "plt.legend(fontsize = 13)\n",
    "plt.title('Training and Prediction time of Algorithms', fontweight = 'bold', fontsize = 17)"
   ]
  },
  {
   "cell_type": "markdown",
   "metadata": {},
   "source": [
    "Let's now create the prediction system"
   ]
  },
  {
   "cell_type": "code",
   "execution_count": 98,
   "metadata": {},
   "outputs": [
    {
     "data": {
      "text/html": [
       "<div>\n",
       "<style scoped>\n",
       "    .dataframe tbody tr th:only-of-type {\n",
       "        vertical-align: middle;\n",
       "    }\n",
       "\n",
       "    .dataframe tbody tr th {\n",
       "        vertical-align: top;\n",
       "    }\n",
       "\n",
       "    .dataframe thead th {\n",
       "        text-align: right;\n",
       "    }\n",
       "</style>\n",
       "<table border=\"1\" class=\"dataframe\">\n",
       "  <thead>\n",
       "    <tr style=\"text-align: right;\">\n",
       "      <th></th>\n",
       "      <th>headline</th>\n",
       "      <th>label</th>\n",
       "      <th>length_headline</th>\n",
       "    </tr>\n",
       "  </thead>\n",
       "  <tbody>\n",
       "    <tr>\n",
       "      <th>0</th>\n",
       "      <td>cock  suck before you piss around on my work</td>\n",
       "      <td>1</td>\n",
       "      <td>44</td>\n",
       "    </tr>\n",
       "    <tr>\n",
       "      <th>1</th>\n",
       "      <td>you are  gay or antisemmitian archangel white ...</td>\n",
       "      <td>1</td>\n",
       "      <td>624</td>\n",
       "    </tr>\n",
       "    <tr>\n",
       "      <th>2</th>\n",
       "      <td>fuck your filthy mother in the ass  dry</td>\n",
       "      <td>1</td>\n",
       "      <td>39</td>\n",
       "    </tr>\n",
       "    <tr>\n",
       "      <th>3</th>\n",
       "      <td>get fuck  ed up  get fuck  ed up got a drink t...</td>\n",
       "      <td>1</td>\n",
       "      <td>121</td>\n",
       "    </tr>\n",
       "    <tr>\n",
       "      <th>4</th>\n",
       "      <td>stupid peace of  shit  stop deleting my stuff ...</td>\n",
       "      <td>1</td>\n",
       "      <td>93</td>\n",
       "    </tr>\n",
       "  </tbody>\n",
       "</table>\n",
       "</div>"
      ],
      "text/plain": [
       "                                            headline  label  length_headline\n",
       "0       cock  suck before you piss around on my work      1               44\n",
       "1  you are  gay or antisemmitian archangel white ...      1              624\n",
       "2            fuck your filthy mother in the ass  dry      1               39\n",
       "3  get fuck  ed up  get fuck  ed up got a drink t...      1              121\n",
       "4  stupid peace of  shit  stop deleting my stuff ...      1               93"
      ]
     },
     "execution_count": 98,
     "metadata": {},
     "output_type": "execute_result"
    }
   ],
   "source": [
    "df.head()"
   ]
  },
  {
   "cell_type": "markdown",
   "metadata": {},
   "source": [
    "- Load the entire TfidfVectorizer object"
   ]
  },
  {
   "cell_type": "code",
   "execution_count": 99,
   "metadata": {},
   "outputs": [],
   "source": [
    "with open('tfidfvectorizer.pkl', 'rb') as file:\n",
    "    tfidf_vectorizer = pickle.load(file)\n"
   ]
  },
  {
   "cell_type": "code",
   "execution_count": 100,
   "metadata": {},
   "outputs": [
    {
     "name": "stdout",
     "output_type": "stream",
     "text": [
      "non-bullying\n"
     ]
    },
    {
     "name": "stderr",
     "output_type": "stream",
     "text": [
      "c:\\Users\\kccha\\OneDrive\\Desktop\\Programming\\Cyber bullying detection\\cyberbullyingdetectorenv\\Lib\\site-packages\\sklearn\\feature_extraction\\text.py:406: UserWarning: Your stop_words may be inconsistent with your preprocessing. Tokenizing the stop words generated tokens ['ninad'] not in stop_words.\n",
      "  warnings.warn(\n"
     ]
    }
   ],
   "source": [
    "# Example data to predict\n",
    "data = ['You are someone I would like to have be with']\n",
    "\n",
    "# Transform the data using the loaded vectorizer\n",
    "preprocessed_data = tfidf_vectorizer.transform(data)\n",
    "\n",
    "# Load the trained model\n",
    "trained_model = pickle.load(open('LinearSVC.pkl', 'rb'))\n",
    "\n",
    "# Make predictions\n",
    "prediction = trained_model.predict(preprocessed_data)\n",
    "\n",
    "# Print the prediction\n",
    "if prediction == 1:\n",
    "    print('bullying')\n",
    "else:\n",
    "    print('non-bullying')"
   ]
  },
  {
   "cell_type": "markdown",
   "metadata": {},
   "source": [
    "Attempting some fine-tuning"
   ]
  },
  {
   "cell_type": "code",
   "execution_count": 101,
   "metadata": {},
   "outputs": [],
   "source": [
    "from sklearn.model_selection import GridSearchCV\n",
    "from sklearn.metrics import make_scorer\n",
    "\n",
    "def tuning(clf, param_dict, X_train, y_train, X_test, y_test):\n",
    "    scorer = make_scorer(f1_score)\n",
    "\n",
    "    grid_obj = GridSearchCV(estimator=clf, param_grid=param_dict, scoring=scorer, cv= 5 )\n",
    "\n",
    "    grid_fit = grid_obj.fit(X_train, y_train)\n",
    "\n",
    "    best_clf = grid_fit.best_estimator_\n",
    "\n",
    "    prediction = (clf.fit(X_train, y_train)).predict(X_test)\n",
    "\n",
    "    best_prediction = best_clf.predict(X_test)\n",
    "\n",
    "    print(clf.__class__.__name__)\n",
    "    print(f'Best Parameter: {grid_fit.best_params_}')\n",
    "\n",
    "    print(f'Accuracy: {accuracy_score(y_test,best_prediction)}')\n",
    "\n",
    "    print(f'F1 Score: {f1_score(y_test,best_prediction)}')\n",
    "\n",
    "    print(f'Precision: {precision_score(y_test,best_prediction)}')\n",
    "    \n",
    "    print(f'Recall: {recall_score(y_test,best_prediction)}')"
   ]
  },
  {
   "cell_type": "code",
   "execution_count": 102,
   "metadata": {},
   "outputs": [
    {
     "name": "stdout",
     "output_type": "stream",
     "text": [
      "LinearSVC\n",
      "Best Parameter: {'C': 1.2}\n",
      "Accuracy: 0.9644628099173553\n",
      "F1 Score: 0.9724888035828535\n",
      "Precision: 0.9733191035218783\n",
      "Recall: 0.97165991902834\n"
     ]
    }
   ],
   "source": [
    "param_grid = {\n",
    "    'C' : [0.25, 0.5, 0.75, 1, 1.2]\n",
    "}\n",
    "\n",
    "clf_model = LinearSVC()\n",
    "\n",
    "tuning(clf_model, param_grid, training_data, y_train, testing_data, y_test)"
   ]
  },
  {
   "cell_type": "code",
   "execution_count": 103,
   "metadata": {},
   "outputs": [],
   "source": [
    "pickle.dump(clf_model, open('LinearSVCTuned.pkl', 'wb'))"
   ]
  }
 ],
 "metadata": {
  "kernelspec": {
   "display_name": "cyberbullyingdetectorenv",
   "language": "python",
   "name": "python3"
  },
  "language_info": {
   "codemirror_mode": {
    "name": "ipython",
    "version": 3
   },
   "file_extension": ".py",
   "mimetype": "text/x-python",
   "name": "python",
   "nbconvert_exporter": "python",
   "pygments_lexer": "ipython3",
   "version": "3.12.4"
  }
 },
 "nbformat": 4,
 "nbformat_minor": 2
}
